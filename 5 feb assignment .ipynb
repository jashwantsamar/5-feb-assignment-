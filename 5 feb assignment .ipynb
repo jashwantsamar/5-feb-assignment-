{
 "cells": [
  {
   "cell_type": "code",
   "execution_count": null,
   "id": "cc1ef006-5280-47ac-8853-527208fb9312",
   "metadata": {},
   "outputs": [],
   "source": [
    "Q1. Create a function which will take a list as an argument and return the product of all the numbers\n",
    "after creating a flat list.\n",
    "Use the below-given list as an argument for your function.\n",
    "list1 = [1,2,3,4, [44,55,66, True], False, (34,56,78,89,34), {1,2,3,3,2,1}, {1:34, \"key2\": [55, 67, 78, 89], 4: (45,\n",
    "22, 61, 34)}, [56, 'data science'], 'Machine Learning']\n",
    "ans-def product_of_numbers(lst):\n",
    "    flat_lst = []\n",
    "    for item in lst:\n",
    "        if isinstance(item, (int, float)):\n",
    "            flat_lst.append(item)\n",
    "        elif isinstance(item, list):\n",
    "            flat_lst.extend(item)\n",
    "        elif isinstance(item, dict):\n",
    "            flat_lst.extend([val for val in item.values() if isinstance(val, (int, float))])\n",
    "        elif isinstance(item, tuple):\n",
    "            flat_lst.extend(item)\n",
    "        elif isinstance(item, set):\n",
    "            flat_lst.extend([val for val in item if isinstance(val, (int, float))])\n",
    "    product = 1\n",
    "    for num in flat_lst:\n",
    "        product *= num\n",
    "    return product\n",
    "list1 = [1,2,3,4, [44,55,66, True], False, (34,56,78,89,34), {1,2,3,3,2,1}, {1:34, \"key2\": [55, 67, 78, 89], 4: (45, 22, 61, 34)}, [56, 'data science'], 'Machine Learning']\n",
    "print(product_of_numbers(list1))\n",
    "-542596352\n",
    "\n"
   ]
  }
 ],
 "metadata": {
  "kernelspec": {
   "display_name": "Python 3 (ipykernel)",
   "language": "python",
   "name": "python3"
  },
  "language_info": {
   "codemirror_mode": {
    "name": "ipython",
    "version": 3
   },
   "file_extension": ".py",
   "mimetype": "text/x-python",
   "name": "python",
   "nbconvert_exporter": "python",
   "pygments_lexer": "ipython3",
   "version": "3.10.8"
  }
 },
 "nbformat": 4,
 "nbformat_minor": 5
}
